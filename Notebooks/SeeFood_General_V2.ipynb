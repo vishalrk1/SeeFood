{
  "nbformat": 4,
  "nbformat_minor": 0,
  "metadata": {
    "accelerator": "GPU",
    "colab": {
      "name": "SeeFood_General_V2.ipynb",
      "provenance": [],
      "collapsed_sections": []
    },
    "kernelspec": {
      "display_name": "Python 3",
      "name": "python3"
    },
    "language_info": {
      "name": "python"
    }
  },
  "cells": [
    {
      "cell_type": "code",
      "metadata": {
        "colab": {
          "base_uri": "https://localhost:8080/"
        },
        "id": "Z6HXc2CGcBvX",
        "outputId": "07d44aa3-41c1-4c31-e1a7-5f701b6031fd"
      },
      "source": [
        "from google.colab import drive\n",
        "drive.mount('/content/drive')"
      ],
      "execution_count": null,
      "outputs": [
        {
          "output_type": "stream",
          "name": "stdout",
          "text": [
            "Mounted at /content/drive\n"
          ]
        }
      ]
    },
    {
      "cell_type": "markdown",
      "metadata": {
        "id": "-ShC5QFWcJJG"
      },
      "source": [
        "# Importing packages and helper functions"
      ]
    },
    {
      "cell_type": "code",
      "metadata": {
        "colab": {
          "base_uri": "https://localhost:8080/"
        },
        "id": "Ln3_VbjQcHyl",
        "outputId": "d4ecef57-38fd-4dfa-a8b6-7243c5c6d00a"
      },
      "source": [
        "import numpy as np \n",
        "import pandas as pd\n",
        "import matplotlib.pyplot as plt\n",
        "\n",
        "import tensorflow as tf\n",
        "from tensorflow.keras import layers\n",
        "from tensorflow.keras.optimizers import Adam\n",
        "\n",
        "from tensorflow.keras.preprocessing.image import ImageDataGenerator\n",
        "\n",
        "!wget https://raw.githubusercontent.com/mrdbourke/tensorflow-deep-learning/main/extras/helper_functions.py\n",
        "\n",
        "# importing helper function\n",
        "from helper_functions import create_tensorboard_callback, plot_loss_curves, pred_and_plot, unzip_data, walk_through_dir"
      ],
      "execution_count": null,
      "outputs": [
        {
          "output_type": "stream",
          "name": "stdout",
          "text": [
            "--2021-11-14 12:28:06--  https://raw.githubusercontent.com/mrdbourke/tensorflow-deep-learning/main/extras/helper_functions.py\n",
            "Resolving raw.githubusercontent.com (raw.githubusercontent.com)... 185.199.109.133, 185.199.111.133, 185.199.108.133, ...\n",
            "Connecting to raw.githubusercontent.com (raw.githubusercontent.com)|185.199.109.133|:443... connected.\n",
            "HTTP request sent, awaiting response... 200 OK\n",
            "Length: 10246 (10K) [text/plain]\n",
            "Saving to: ‘helper_functions.py’\n",
            "\n",
            "helper_functions.py 100%[===================>]  10.01K  --.-KB/s    in 0s      \n",
            "\n",
            "2021-11-14 12:28:06 (65.3 MB/s) - ‘helper_functions.py’ saved [10246/10246]\n",
            "\n"
          ]
        }
      ]
    },
    {
      "cell_type": "markdown",
      "metadata": {
        "id": "fPZltWtKccKN"
      },
      "source": [
        "# Unzipping data and creating input Data"
      ]
    },
    {
      "cell_type": "code",
      "metadata": {
        "id": "nPX4LhsmcbsP"
      },
      "source": [
        "unzip_data('/content/drive/MyDrive/Datasets/all_food_classes.zip')"
      ],
      "execution_count": null,
      "outputs": []
    },
    {
      "cell_type": "markdown",
      "metadata": {
        "id": "iXmtApencn4X"
      },
      "source": [
        "## All class names"
      ]
    },
    {
      "cell_type": "code",
      "metadata": {
        "colab": {
          "base_uri": "https://localhost:8080/"
        },
        "id": "LRnN8M2vcj93",
        "outputId": "f3a794a5-78d3-4e7e-f015-361734cee11f"
      },
      "source": [
        "# getting all calsses name\n",
        "import pathlib\n",
        "\n",
        "data_dir = pathlib.Path('all_food_classes/train')\n",
        "classes = np.array(sorted([item.name for item in data_dir.glob(\"*\")]))\n",
        "class_names = classes[0:]\n",
        "print(class_names)"
      ],
      "execution_count": null,
      "outputs": [
        {
          "output_type": "stream",
          "name": "stdout",
          "text": [
            "['apple_pie' 'baby_back_ribs' 'baklava' 'beef_carpaccio' 'beef_tartare'\n",
            " 'beet_salad' 'beignets' 'bibimbap' 'bread_pudding' 'breakfast_burrito'\n",
            " 'bruschetta' 'caesar_salad' 'cannoli' 'caprese_salad' 'carrot_cake'\n",
            " 'ceviche' 'cheese_plate' 'cheesecake' 'chicken_curry'\n",
            " 'chicken_quesadilla' 'chicken_wings' 'chocolate_cake' 'chocolate_mousse'\n",
            " 'churros' 'clam_chowder' 'club_sandwich' 'crab_cakes' 'creme_brulee'\n",
            " 'croque_madame' 'cup_cakes' 'deviled_eggs' 'donuts' 'dumplings' 'edamame'\n",
            " 'eggs_benedict' 'escargots' 'falafel' 'filet_mignon' 'fish_and_chips'\n",
            " 'foie_gras' 'french_fries' 'french_onion_soup' 'french_toast'\n",
            " 'fried_calamari' 'fried_rice' 'frozen_yogurt' 'garlic_bread' 'gnocchi'\n",
            " 'greek_salad' 'grilled_cheese_sandwich' 'grilled_salmon' 'guacamole'\n",
            " 'gyoza' 'hamburger' 'hot_and_sour_soup' 'hot_dog' 'huevos_rancheros'\n",
            " 'hummus' 'ice_cream' 'lasagna' 'lobster_bisque' 'lobster_roll_sandwich'\n",
            " 'macaroni_and_cheese' 'macarons' 'miso_soup' 'mussels' 'nachos'\n",
            " 'omelette' 'onion_rings' 'oysters' 'pad_thai' 'paella' 'pancakes'\n",
            " 'panna_cotta' 'peking_duck' 'pho' 'pizza' 'pork_chop' 'poutine'\n",
            " 'prime_rib' 'pulled_pork_sandwich' 'ramen' 'ravioli' 'red_velvet_cake'\n",
            " 'risotto' 'samosa' 'sashimi' 'scallops' 'seaweed_salad'\n",
            " 'shrimp_and_grits' 'spaghetti_bolognese' 'spaghetti_carbonara'\n",
            " 'spring_rolls' 'steak' 'strawberry_shortcake' 'sushi' 'tacos' 'takoyaki'\n",
            " 'tiramisu' 'tuna_tartare' 'waffles']\n"
          ]
        }
      ]
    },
    {
      "cell_type": "markdown",
      "metadata": {
        "id": "-TlLfrj9czmn"
      },
      "source": [
        "## Data preprocessing and Augmentation"
      ]
    },
    {
      "cell_type": "code",
      "metadata": {
        "id": "5TcjfJducufP"
      },
      "source": [
        "train_dir = '/content/all_food_classes/train'\n",
        "test_dir = '/content/all_food_classes/test'"
      ],
      "execution_count": null,
      "outputs": []
    },
    {
      "cell_type": "code",
      "metadata": {
        "colab": {
          "base_uri": "https://localhost:8080/"
        },
        "id": "ayVvADbVc5rt",
        "outputId": "fdba0750-eb7f-4671-8861-af0cccef86d8"
      },
      "source": [
        "IMG_SIZE = (224, 224)\n",
        "BATCH_SIZE = 128\n",
        "\n",
        "train_datagen = ImageDataGenerator(\n",
        "    zoom_range = 0.2,\n",
        "    rotation_range = 0.2,\n",
        "    horizontal_flip = True,\n",
        "    width_shift_range=0.2, \n",
        "    height_shift_range=0.2,\n",
        "    rescale = 1/255.,\n",
        ")\n",
        "\n",
        "test_datagen = ImageDataGenerator(rescale = 1/255.,)\n",
        "\n",
        "train_data = train_datagen.flow_from_directory(\n",
        "    train_dir,\n",
        "    target_size= IMG_SIZE,\n",
        "    class_mode='categorical',\n",
        "    batch_size= BATCH_SIZE,\n",
        "    seed = 101,\n",
        ")\n",
        "\n",
        "test_data = test_datagen.flow_from_directory(\n",
        "    test_dir,\n",
        "    target_size= IMG_SIZE,\n",
        "    class_mode='categorical',\n",
        "    batch_size= BATCH_SIZE,\n",
        "    seed = 101,\n",
        ")"
      ],
      "execution_count": null,
      "outputs": [
        {
          "output_type": "stream",
          "name": "stdout",
          "text": [
            "Found 75750 images belonging to 101 classes.\n",
            "Found 25250 images belonging to 101 classes.\n"
          ]
        }
      ]
    },
    {
      "cell_type": "markdown",
      "metadata": {
        "id": "ZTUWwipCd1TK"
      },
      "source": [
        "## Training Callbacks"
      ]
    },
    {
      "cell_type": "code",
      "metadata": {
        "id": "yfBgpX4YdlQ3"
      },
      "source": [
        "train_callbacks = [\n",
        "    tf.keras.callbacks.EarlyStopping(\n",
        "        monitor=\"val_loss\", patience=3,\n",
        "        restore_best_weights=True\n",
        "    ),\n",
        "    tf.keras.callbacks.ReduceLROnPlateau(\n",
        "        monitor=\"val_loss\", factor=0.5,\n",
        "        patience=3, verbose=1\n",
        "    ),\n",
        "    tf.keras.callbacks.ModelCheckpoint('/content/drive/MyDrive/Datasets/SeeFood_models/model_V2', save_best_only=True),\n",
        "]"
      ],
      "execution_count": null,
      "outputs": []
    },
    {
      "cell_type": "markdown",
      "metadata": {
        "id": "_k7airxBeQ_Y"
      },
      "source": [
        "# Model \n",
        "\n",
        "* **For model V2 we are using pretraind Xception model**"
      ]
    },
    {
      "cell_type": "code",
      "metadata": {
        "colab": {
          "base_uri": "https://localhost:8080/"
        },
        "id": "24ISC84weLeB",
        "outputId": "62cbc6dd-b71f-4943-8fa7-5f86979376e3"
      },
      "source": [
        "base_model = tf.keras.applications.Xception(include_top=False, input_shape=(224, 224, 3))\n",
        "base_model.trainable = True"
      ],
      "execution_count": null,
      "outputs": [
        {
          "name": "stdout",
          "output_type": "stream",
          "text": [
            "Downloading data from https://storage.googleapis.com/tensorflow/keras-applications/xception/xception_weights_tf_dim_ordering_tf_kernels_notop.h5\n",
            "83689472/83683744 [==============================] - 1s 0us/step\n",
            "83697664/83683744 [==============================] - 1s 0us/step\n"
          ]
        }
      ]
    },
    {
      "cell_type": "code",
      "metadata": {
        "id": "XgqclpUZe7cL"
      },
      "source": [
        "for layer in base_model.layers[:-22]:\n",
        "  layer.trainable = False"
      ],
      "execution_count": null,
      "outputs": []
    },
    {
      "cell_type": "code",
      "metadata": {
        "id": "8HnwkYsMelqa"
      },
      "source": [
        "inputs = layers.Input(shape=(224, 224, 3))\n",
        "x = base_model(inputs, training=False)\n",
        "x = layers.GlobalAveragePooling2D()(x)\n",
        "x = layers.Dense(256, activation='relu')(x)\n",
        "outputs = layers.Dense(len(class_names), activation='softmax')(x)\n",
        "\n",
        "model_V2 = tf.keras.Model(inputs, outputs)"
      ],
      "execution_count": null,
      "outputs": []
    },
    {
      "cell_type": "code",
      "metadata": {
        "colab": {
          "base_uri": "https://localhost:8080/"
        },
        "id": "OClydTNKe2TA",
        "outputId": "a65d86da-de3c-46c2-f481-7eb48b611017"
      },
      "source": [
        "model_V2.summary()"
      ],
      "execution_count": null,
      "outputs": [
        {
          "name": "stdout",
          "output_type": "stream",
          "text": [
            "Model: \"model_1\"\n",
            "_________________________________________________________________\n",
            " Layer (type)                Output Shape              Param #   \n",
            "=================================================================\n",
            " input_3 (InputLayer)        [(None, 224, 224, 3)]     0         \n",
            "                                                                 \n",
            " xception (Functional)       (None, 7, 7, 2048)        20861480  \n",
            "                                                                 \n",
            " global_average_pooling2d_1   (None, 2048)             0         \n",
            " (GlobalAveragePooling2D)                                        \n",
            "                                                                 \n",
            " dense_2 (Dense)             (None, 256)               524544    \n",
            "                                                                 \n",
            " dense_3 (Dense)             (None, 101)               25957     \n",
            "                                                                 \n",
            "=================================================================\n",
            "Total params: 21,411,981\n",
            "Trainable params: 8,414,869\n",
            "Non-trainable params: 12,997,112\n",
            "_________________________________________________________________\n"
          ]
        }
      ]
    },
    {
      "cell_type": "code",
      "metadata": {
        "colab": {
          "base_uri": "https://localhost:8080/"
        },
        "id": "1JK_KZJ_e39d",
        "outputId": "e8a51974-6acc-4ef8-c73f-be79e85b754a"
      },
      "source": [
        "model_V2.compile(\n",
        "    loss = 'categorical_crossentropy',\n",
        "    optimizer = Adam(),\n",
        "    metrics = ['accuracy'],\n",
        ")\n",
        "\n",
        "history = model_V2.fit(\n",
        "    train_data,\n",
        "    epochs = 15,\n",
        "    steps_per_epoch = len(train_data),\n",
        "    validation_data = test_data,\n",
        "    validation_steps = int(0.15 * len(test_data)),\n",
        "    callbacks = train_callbacks,\n",
        ")"
      ],
      "execution_count": null,
      "outputs": [
        {
          "name": "stdout",
          "output_type": "stream",
          "text": [
            "Epoch 1/15\n",
            "592/592 [==============================] - ETA: 0s - loss: 2.1809 - accuracy: 0.4636INFO:tensorflow:Assets written to: /content/drive/MyDrive/Datasets/SeeFood_models/model_V2/assets\n"
          ]
        },
        {
          "name": "stderr",
          "output_type": "stream",
          "text": [
            "/usr/local/lib/python3.7/dist-packages/keras/engine/functional.py:1410: CustomMaskWarning: Custom mask layers require a config and must override get_config. When loading, the custom mask layer must be passed to the custom_objects argument.\n",
            "  layer_config = serialize_layer_fn(layer)\n"
          ]
        },
        {
          "name": "stdout",
          "output_type": "stream",
          "text": [
            "\b\b\b\b\b\b\b\b\b\b\b\b\b\b\b\b\b\b\b\b\b\b\b\b\b\b\b\b\b\b\b\b\b\b\b\b\b\b\b\b\b\b\b\b\b\b\b\b\b\b\b\b\b\b\b\b\b\b\b\b\b\b\b\b\b\b\b\b\b\b\b\b\b\b\b\b\b\b\b\b\b\b\b\b\r592/592 [==============================] - 1519s 3s/step - loss: 2.1809 - accuracy: 0.4636 - val_loss: 1.3316 - val_accuracy: 0.6517 - lr: 0.0010\n"
          ]
        },
        {
          "name": "stderr",
          "output_type": "stream",
          "text": [
            "/usr/local/lib/python3.7/dist-packages/keras/saving/saved_model/layer_serialization.py:112: CustomMaskWarning: Custom mask layers require a config and must override get_config. When loading, the custom mask layer must be passed to the custom_objects argument.\n",
            "  return generic_utils.serialize_keras_object(obj)\n"
          ]
        },
        {
          "name": "stdout",
          "output_type": "stream",
          "text": [
            "Epoch 2/15\n",
            "592/592 [==============================] - ETA: 0s - loss: 1.5188 - accuracy: 0.6076INFO:tensorflow:Assets written to: /content/drive/MyDrive/Datasets/SeeFood_models/model_V2/assets\n"
          ]
        },
        {
          "name": "stderr",
          "output_type": "stream",
          "text": [
            "/usr/local/lib/python3.7/dist-packages/keras/engine/functional.py:1410: CustomMaskWarning: Custom mask layers require a config and must override get_config. When loading, the custom mask layer must be passed to the custom_objects argument.\n",
            "  layer_config = serialize_layer_fn(layer)\n",
            "/usr/local/lib/python3.7/dist-packages/keras/saving/saved_model/layer_serialization.py:112: CustomMaskWarning: Custom mask layers require a config and must override get_config. When loading, the custom mask layer must be passed to the custom_objects argument.\n",
            "  return generic_utils.serialize_keras_object(obj)\n"
          ]
        },
        {
          "name": "stdout",
          "output_type": "stream",
          "text": [
            "592/592 [==============================] - 1489s 3s/step - loss: 1.5188 - accuracy: 0.6076 - val_loss: 1.1566 - val_accuracy: 0.6818 - lr: 0.0010\n",
            "Epoch 3/15\n",
            "592/592 [==============================] - ETA: 0s - loss: 1.2956 - accuracy: 0.6595INFO:tensorflow:Assets written to: /content/drive/MyDrive/Datasets/SeeFood_models/model_V2/assets\n"
          ]
        },
        {
          "name": "stderr",
          "output_type": "stream",
          "text": [
            "/usr/local/lib/python3.7/dist-packages/keras/engine/functional.py:1410: CustomMaskWarning: Custom mask layers require a config and must override get_config. When loading, the custom mask layer must be passed to the custom_objects argument.\n",
            "  layer_config = serialize_layer_fn(layer)\n"
          ]
        },
        {
          "name": "stdout",
          "output_type": "stream",
          "text": [
            "\b\b\b\b\b\b\b\b\b\b\b\b\b\b\b\b\b\b\b\b\b\b\b\b\b\b\b\b\b\b\b\b\b\b\b\b\b\b\b\b\b\b\b\b\b\b\b\b\b\b\b\b\b\b\b\b\b\b\b\b\b\b\b\b\b\b\b\b\b\b\b\b\b\b\b\b\b\b\b\b\b\b\b\b\r592/592 [==============================] - 1454s 2s/step - loss: 1.2956 - accuracy: 0.6595 - val_loss: 1.1112 - val_accuracy: 0.6980 - lr: 0.0010\n"
          ]
        },
        {
          "name": "stderr",
          "output_type": "stream",
          "text": [
            "/usr/local/lib/python3.7/dist-packages/keras/saving/saved_model/layer_serialization.py:112: CustomMaskWarning: Custom mask layers require a config and must override get_config. When loading, the custom mask layer must be passed to the custom_objects argument.\n",
            "  return generic_utils.serialize_keras_object(obj)\n"
          ]
        },
        {
          "name": "stdout",
          "output_type": "stream",
          "text": [
            "Epoch 4/15\n",
            "592/592 [==============================] - ETA: 0s - loss: 1.1337 - accuracy: 0.6966INFO:tensorflow:Assets written to: /content/drive/MyDrive/Datasets/SeeFood_models/model_V2/assets\n"
          ]
        },
        {
          "name": "stderr",
          "output_type": "stream",
          "text": [
            "/usr/local/lib/python3.7/dist-packages/keras/engine/functional.py:1410: CustomMaskWarning: Custom mask layers require a config and must override get_config. When loading, the custom mask layer must be passed to the custom_objects argument.\n",
            "  layer_config = serialize_layer_fn(layer)\n"
          ]
        },
        {
          "name": "stdout",
          "output_type": "stream",
          "text": [
            "\b\b\b\b\b\b\b\b\b\b\b\b\b\b\b\b\b\b\b\b\b\b\b\b\b\b\b\b\b\b\b\b\b\b\b\b\b\b\b\b\b\b\b\b\b\b\b\b\b\b\b\b\b\b\b\b\b\b\b\b\b\b\b\b\b\b\b\b\b\b\b\b\b\b\b\b\b\b\b\b\b\b\b\b\r592/592 [==============================] - 1481s 3s/step - loss: 1.1337 - accuracy: 0.6966 - val_loss: 1.0310 - val_accuracy: 0.7293 - lr: 0.0010\n"
          ]
        },
        {
          "name": "stderr",
          "output_type": "stream",
          "text": [
            "/usr/local/lib/python3.7/dist-packages/keras/saving/saved_model/layer_serialization.py:112: CustomMaskWarning: Custom mask layers require a config and must override get_config. When loading, the custom mask layer must be passed to the custom_objects argument.\n",
            "  return generic_utils.serialize_keras_object(obj)\n"
          ]
        },
        {
          "name": "stdout",
          "output_type": "stream",
          "text": [
            "Epoch 5/15\n",
            "592/592 [==============================] - 1481s 3s/step - loss: 1.0148 - accuracy: 0.7268 - val_loss: 1.0690 - val_accuracy: 0.7231 - lr: 0.0010\n",
            "Epoch 6/15\n",
            "592/592 [==============================] - ETA: 0s - loss: 0.9051 - accuracy: 0.7522INFO:tensorflow:Assets written to: /content/drive/MyDrive/Datasets/SeeFood_models/model_V2/assets\n"
          ]
        },
        {
          "name": "stderr",
          "output_type": "stream",
          "text": [
            "/usr/local/lib/python3.7/dist-packages/keras/engine/functional.py:1410: CustomMaskWarning: Custom mask layers require a config and must override get_config. When loading, the custom mask layer must be passed to the custom_objects argument.\n",
            "  layer_config = serialize_layer_fn(layer)\n"
          ]
        },
        {
          "name": "stdout",
          "output_type": "stream",
          "text": [
            "\b\b\b\b\b\b\b\b\b\b\b\b\b\b\b\b\b\b\b\b\b\b\b\b\b\b\b\b\b\b\b\b\b\b\b\b\b\b\b\b\b\b\b\b\b\b\b\b\b\b\b\b\b\b\b\b\b\b\b\b\b\b\b\b\b\b\b\b\b\b\b\b\b\b\b\b\b\b\b\b\b\b\b\b\r592/592 [==============================] - 1468s 2s/step - loss: 0.9051 - accuracy: 0.7522 - val_loss: 0.9928 - val_accuracy: 0.7452 - lr: 0.0010\n"
          ]
        },
        {
          "name": "stderr",
          "output_type": "stream",
          "text": [
            "/usr/local/lib/python3.7/dist-packages/keras/saving/saved_model/layer_serialization.py:112: CustomMaskWarning: Custom mask layers require a config and must override get_config. When loading, the custom mask layer must be passed to the custom_objects argument.\n",
            "  return generic_utils.serialize_keras_object(obj)\n"
          ]
        },
        {
          "name": "stdout",
          "output_type": "stream",
          "text": [
            "Epoch 7/15\n",
            "592/592 [==============================] - 1444s 2s/step - loss: 0.8266 - accuracy: 0.7706 - val_loss: 1.0372 - val_accuracy: 0.7400 - lr: 0.0010\n",
            "Epoch 8/15\n",
            "592/592 [==============================] - 1444s 2s/step - loss: 0.7397 - accuracy: 0.7916 - val_loss: 1.0748 - val_accuracy: 0.7236 - lr: 0.0010\n",
            "Epoch 9/15\n",
            "592/592 [==============================] - ETA: 0s - loss: 0.6662 - accuracy: 0.8107\n",
            "Epoch 00009: ReduceLROnPlateau reducing learning rate to 0.0005000000237487257.\n",
            "592/592 [==============================] - 1455s 2s/step - loss: 0.6662 - accuracy: 0.8107 - val_loss: 1.0618 - val_accuracy: 0.7414 - lr: 0.0010\n",
            "Epoch 10/15\n",
            "592/592 [==============================] - 1453s 2s/step - loss: 0.4234 - accuracy: 0.8768 - val_loss: 1.0446 - val_accuracy: 0.7589 - lr: 5.0000e-04\n",
            "Epoch 11/15\n",
            "592/592 [==============================] - 1429s 2s/step - loss: 0.3379 - accuracy: 0.8981 - val_loss: 1.1444 - val_accuracy: 0.7578 - lr: 5.0000e-04\n",
            "Epoch 12/15\n",
            "592/592 [==============================] - ETA: 0s - loss: 0.2944 - accuracy: 0.9099\n",
            "Epoch 00012: ReduceLROnPlateau reducing learning rate to 0.0002500000118743628.\n",
            "592/592 [==============================] - 1451s 2s/step - loss: 0.2944 - accuracy: 0.9099 - val_loss: 1.3055 - val_accuracy: 0.7492 - lr: 5.0000e-04\n",
            "Epoch 13/15\n",
            "592/592 [==============================] - 1429s 2s/step - loss: 0.1861 - accuracy: 0.9424 - val_loss: 1.2439 - val_accuracy: 0.7637 - lr: 2.5000e-04\n",
            "Epoch 14/15\n",
            "592/592 [==============================] - 1438s 2s/step - loss: 0.1519 - accuracy: 0.9521 - val_loss: 1.3042 - val_accuracy: 0.7608 - lr: 2.5000e-04\n",
            "Epoch 15/15\n",
            "592/592 [==============================] - ETA: 0s - loss: 0.1348 - accuracy: 0.9571\n",
            "Epoch 00015: ReduceLROnPlateau reducing learning rate to 0.0001250000059371814.\n",
            "592/592 [==============================] - 1427s 2s/step - loss: 0.1348 - accuracy: 0.9571 - val_loss: 1.3855 - val_accuracy: 0.7745 - lr: 2.5000e-04\n"
          ]
        }
      ]
    },
    {
      "cell_type": "code",
      "metadata": {
        "colab": {
          "base_uri": "https://localhost:8080/"
        },
        "id": "w_38DNANfmxy",
        "outputId": "a54629a0-eae6-47cf-bcbc-4e0c862ffc2a"
      },
      "source": [
        "model_V2.save('/content/drive/MyDrive/Datasets/SeeFood_models/SeeFood_General_Model_V2')"
      ],
      "execution_count": null,
      "outputs": [
        {
          "name": "stdout",
          "output_type": "stream",
          "text": [
            "INFO:tensorflow:Assets written to: /content/drive/MyDrive/Datasets/SeeFood_models/SeeFood_General_Model_V2/assets\n"
          ]
        },
        {
          "name": "stderr",
          "output_type": "stream",
          "text": [
            "/usr/local/lib/python3.7/dist-packages/keras/engine/functional.py:1410: CustomMaskWarning: Custom mask layers require a config and must override get_config. When loading, the custom mask layer must be passed to the custom_objects argument.\n",
            "  layer_config = serialize_layer_fn(layer)\n",
            "/usr/local/lib/python3.7/dist-packages/keras/saving/saved_model/layer_serialization.py:112: CustomMaskWarning: Custom mask layers require a config and must override get_config. When loading, the custom mask layer must be passed to the custom_objects argument.\n",
            "  return generic_utils.serialize_keras_object(obj)\n"
          ]
        }
      ]
    },
    {
      "cell_type": "code",
      "metadata": {
        "id": "i4O7JvMQ1ii1"
      },
      "source": [
        "model_V2 = tf.keras.models.load_model('/content/drive/MyDrive/Datasets/SeeFood_models/SeeFood_General_Model_V2')"
      ],
      "execution_count": null,
      "outputs": []
    },
    {
      "cell_type": "code",
      "metadata": {
        "colab": {
          "base_uri": "https://localhost:8080/"
        },
        "id": "3YXSO0jgs487",
        "outputId": "81ea4b4b-8dfa-448b-f462-e4658d837311"
      },
      "source": [
        "model_V2.evaluate(test_data)"
      ],
      "execution_count": null,
      "outputs": [
        {
          "output_type": "stream",
          "name": "stdout",
          "text": [
            "198/198 [==============================] - 253s 1s/step - loss: 1.4188 - accuracy: 0.7615\n"
          ]
        },
        {
          "output_type": "execute_result",
          "data": {
            "text/plain": [
              "[1.4188088178634644, 0.7615445256233215]"
            ]
          },
          "metadata": {},
          "execution_count": 9
        }
      ]
    },
    {
      "cell_type": "markdown",
      "metadata": {
        "id": "ihq9QSrea3Do"
      },
      "source": [
        "# Converting model to tflite model"
      ]
    },
    {
      "cell_type": "code",
      "metadata": {
        "colab": {
          "base_uri": "https://localhost:8080/"
        },
        "id": "HQZhMv4wepyj",
        "outputId": "2a2cd315-bf54-4cf6-8360-ccbc9db22c38"
      },
      "source": [
        "converter = tf.lite.TFLiteConverter.from_saved_model('/content/drive/MyDrive/Datasets/SeeFood_models/SeeFood_General_Model_V2')\n",
        "tflite_model = converter.convert()\n",
        "\n",
        "open(\"model_V2.tflite\", \"wb\").write(tflite_model)\n",
        "\n",
        "optimize=\"Speed\"\n",
        "if optimize=='Speed':\n",
        "    converter.optimizations = [tf.lite.Optimize.OPTIMIZE_FOR_LATENCY]\n",
        "elif optimize=='Storage':\n",
        "     converter.optimizations = [tf.lite.Optimize.OPTIMIZE_FOR_SIZE]\n",
        "else:    \n",
        "    converter.optimizations = [tf.lite.Optimize.DEFAULT]\n",
        "#reduce the size of a floating point model by quantizing the weights to float16\n",
        "converter.target_spec.supported_types = [tf.float16]\n",
        "tflite_quant_model = converter.convert()\n",
        "#save the quanitized model toa binary file\n",
        "open(\"Seefood_model_V2.tflite\", \"wb\").write(tflite_quant_model)"
      ],
      "execution_count": null,
      "outputs": [
        {
          "output_type": "stream",
          "name": "stderr",
          "text": [
            "WARNING:absl:Buffer deduplication procedure will be skipped when flatbuffer library is not properly loaded\n",
            "WARNING:absl:Optimization option OPTIMIZE_FOR_LATENCY is deprecated, please use optimizations=[Optimize.DEFAULT] instead.\n",
            "WARNING:absl:Optimization option OPTIMIZE_FOR_LATENCY is deprecated, please use optimizations=[Optimize.DEFAULT] instead.\n",
            "WARNING:absl:Optimization option OPTIMIZE_FOR_LATENCY is deprecated, please use optimizations=[Optimize.DEFAULT] instead.\n",
            "WARNING:absl:Buffer deduplication procedure will be skipped when flatbuffer library is not properly loaded\n"
          ]
        },
        {
          "output_type": "execute_result",
          "data": {
            "text/plain": [
              "42732064"
            ]
          },
          "metadata": {},
          "execution_count": 10
        }
      ]
    }
  ]
}