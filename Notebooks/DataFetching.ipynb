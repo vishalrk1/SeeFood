{
 "cells": [
  {
   "cell_type": "markdown",
   "id": "bef0d247",
   "metadata": {},
   "source": [
    "## Main Food Recipe\n",
    "\n",
    "* fetching some random food recipes from api of predicted food name using https://api.spoonacular.com/food/products/search?query={foodName}&apiKey={API_KEY} thsi url\n",
    "* foodName = predicted food name\n",
    "* API_KEY = api key of my account ( https://spoonacular.com/food-api/console#Profile )"
   ]
  },
  {
   "cell_type": "code",
   "execution_count": 25,
   "id": "d849c233",
   "metadata": {},
   "outputs": [
    {
     "name": "stdout",
     "output_type": "stream",
     "text": [
      "200 \n",
      "\n",
      "{'results': [{'id': 636593, 'title': 'Butternut Squash Pizza', 'readyInMinutes': 45, 'servings': 4, 'sourceUrl': 'https://www.foodista.com/recipe/7ZRQJMW4/butternut-squash-pizza', 'openLicense': 2, 'image': 'Butternut-Squash-Pizza-636593.jpg'}, {'id': 651956, 'title': 'Mini eggplant pizza', 'readyInMinutes': 45, 'servings': 3, 'sourceUrl': 'https://www.foodista.com/recipe/2R5MSMN3/mini-eggplant-pizza', 'openLicense': 2, 'image': 'Mini-eggplant-pizza-651956.jpg'}, {'id': 637054, 'title': 'Caramelized Onion and Bacon Pizza', 'readyInMinutes': 45, 'servings': 4, 'sourceUrl': 'https://www.foodista.com/recipe/DX2BY4DB/caramelized-onion-and-bacon-pizza', 'openLicense': 2, 'image': 'Caramelized-Onion-and-Bacon-Pizza-637054.jpg'}, {'id': 644953, 'title': 'Goat Cheese Pesto Pizza', 'readyInMinutes': 45, 'servings': 4, 'sourceUrl': 'https://www.foodista.com/recipe/NYLVT4DN/goat-cheese-pesto-pizza', 'openLicense': 2, 'image': 'Goat-Cheese-Pesto-Pizza-644953.jpg'}, {'id': 662605, 'title': 'Sweet Potato, Sausage and Caramelized Onion Pizza', 'readyInMinutes': 45, 'servings': 8, 'sourceUrl': 'https://www.foodista.com/recipe/L22DJCK8/sweet-potato-sausage-and-caramelized-onion-pizza', 'openLicense': 2, 'image': 'Sweet-Potato--Sausage-and-Caramelized-Onion-Pizza-662605.jpg'}, {'id': 642371, 'title': 'Elk Italian Sausage Pizza With Ricotta Cheese, Sautéd Mushrooms and Onion', 'readyInMinutes': 45, 'servings': 4, 'sourceUrl': 'https://www.foodista.com/recipe/62GDZ335/elk-italian-sausage-pizza-with-ricotta-cheese-sauted-mushrooms-and-onion', 'openLicense': 2, 'image': 'Elk-Italian-Sausage-Pizza-With-Ricotta-Cheese--Sautd-Mushrooms-and-Onion-642371.jpg'}, {'id': 656323, 'title': 'Pita Pizzas with Sautéed Apples and Bacon', 'readyInMinutes': 45, 'servings': 2, 'sourceUrl': 'https://www.foodista.com/recipe/4GG333SV/pita-pizzas-with-sauteed-apples-and-bacon', 'openLicense': 2, 'image': 'Pita-Pizzas-with-Sauted-Apples-and-Bacon-656323.jpg'}, {'id': 1096319, 'title': 'Mini Vegetarian Puff Pastry Pizzas', 'readyInMinutes': 45, 'servings': 12, 'sourceUrl': 'https://www.foodista.com/recipe/8YHF4YBZ/mini-vegetarian-puff-pastry-pizzas', 'openLicense': 2, 'image': 'mini-vegetarian-puff-pastry-pizzas-1096319.jpg'}], 'baseUri': 'https://spoonacular.com/recipeImages/', 'offset': 0, 'number': 10, 'totalResults': 8, 'processingTimeMs': 18, 'expires': 1637262598014, 'isStale': False}\n"
     ]
    }
   ],
   "source": [
    "import requests\n",
    "import json\n",
    "\n",
    "API_KEY = '16b65f6510e040528021ce8f8b439002'\n",
    "foodName = 'pizza'\n",
    "\n",
    "url = f\"https://api.spoonacular.com/recipes/search?query={foodName}&apiKey={API_KEY}\"\n",
    "\n",
    "response = requests.get(url)\n",
    "json_data = response.json()\n",
    "\n",
    "print(f\"{response.status_code} \\n\")\n",
    "print(json_data)"
   ]
  },
  {
   "cell_type": "markdown",
   "id": "057c153d",
   "metadata": {},
   "source": [
    "### Chossing one random recipe from feteched recipies to desplay"
   ]
  },
  {
   "cell_type": "code",
   "execution_count": 35,
   "id": "669bdf82",
   "metadata": {},
   "outputs": [
    {
     "data": {
      "text/plain": [
       "{'id': 636593,\n",
       " 'title': 'Butternut Squash Pizza',\n",
       " 'readyInMinutes': 45,\n",
       " 'servings': 4,\n",
       " 'sourceUrl': 'https://www.foodista.com/recipe/7ZRQJMW4/butternut-squash-pizza',\n",
       " 'openLicense': 2,\n",
       " 'image': 'Butternut-Squash-Pizza-636593.jpg'}"
      ]
     },
     "execution_count": 35,
     "metadata": {},
     "output_type": "execute_result"
    }
   ],
   "source": [
    "import random\n",
    "\n",
    "recipe_list = json_data['results']\n",
    "foodRecipe = random.choice(recipe_list)\n",
    "random.choice(recipe_list)"
   ]
  },
  {
   "cell_type": "code",
   "execution_count": 36,
   "id": "fef420b8",
   "metadata": {},
   "outputs": [],
   "source": [
    "# saving important data that will be displayed on screen\n",
    "recipe_ID = foodRecipe['id']\n",
    "recipe_title = foodRecipe['title']\n",
    "recipe_ready_time = foodRecipe['readyInMinutes']\n",
    "recipe_source_url = foodRecipe['sourceUrl']"
   ]
  },
  {
   "cell_type": "code",
   "execution_count": 37,
   "id": "37cb4e8f",
   "metadata": {},
   "outputs": [
    {
     "name": "stdout",
     "output_type": "stream",
     "text": [
      "200 \n",
      "\n",
      "{'vegetarian': False, 'vegan': False, 'glutenFree': True, 'dairyFree': False, 'veryHealthy': False, 'cheap': False, 'veryPopular': False, 'sustainable': False, 'weightWatcherSmartPoints': 8, 'gaps': 'no', 'lowFodmap': False, 'aggregateLikes': 1, 'spoonacularScore': 22.0, 'healthScore': 2.0, 'creditsText': 'Foodista.com – The Cooking Encyclopedia Everyone Can Edit', 'license': 'CC BY 3.0', 'sourceName': 'Foodista', 'pricePerServing': 69.59, 'extendedIngredients': [{'id': 4053, 'aisle': 'Oil, Vinegar, Salad Dressing', 'image': 'olive-oil.jpg', 'consistency': 'liquid', 'name': 'olive oil', 'nameClean': 'olive oil', 'original': 'Olive oil', 'originalString': 'Olive oil', 'originalName': 'Olive oil', 'amount': 1.0, 'unit': 'serving', 'meta': [], 'metaInformation': [], 'measures': {'us': {'amount': 1.0, 'unitShort': 'serving', 'unitLong': 'serving'}, 'metric': {'amount': 1.0, 'unitShort': 'serving', 'unitLong': 'serving'}}}, {'id': 1012047, 'aisle': 'Spices and Seasonings', 'image': 'salt.jpg', 'consistency': 'solid', 'name': 'sea salt', 'nameClean': 'coarse sea salt', 'original': 'Sea salt', 'originalString': 'Sea salt', 'originalName': 'Sea salt', 'amount': 1.0, 'unit': 'serving', 'meta': [], 'metaInformation': [], 'measures': {'us': {'amount': 1.0, 'unitShort': 'serving', 'unitLong': 'serving'}, 'metric': {'amount': 1.0, 'unitShort': 'serving', 'unitLong': 'serving'}}}, {'id': 11209, 'aisle': 'Produce', 'image': 'eggplant.png', 'consistency': 'solid', 'name': 'eggplant', 'nameClean': 'eggplant', 'original': '3 1/4- to 1/3-inch slices of eggplant, drained on a paper towel for 30 to 45 minutes', 'originalString': '3 1/4- to 1/3-inch slices of eggplant, drained on a paper towel for 30 to 45 minutes', 'originalName': 'eggplant, drained on a paper towel for 30 to 45 minutes', 'amount': 3.25, 'unit': 'inch', 'meta': ['drained', 'for 30 to 45 minutes'], 'metaInformation': ['drained', 'for 30 to 45 minutes'], 'measures': {'us': {'amount': 3.25, 'unitShort': 'inch', 'unitLong': 'inches'}, 'metric': {'amount': 3.25, 'unitShort': 'inch', 'unitLong': 'inches'}}}, {'id': 11549, 'aisle': 'Pasta and Rice', 'image': 'tomato-sauce-or-pasta-sauce.jpg', 'consistency': 'solid', 'name': 'tomato sauce', 'nameClean': 'canned tomato sauce', 'original': '1/3 cup tomato sauce', 'originalString': '1/3 cup tomato sauce', 'originalName': 'tomato sauce', 'amount': 0.3333333333333333, 'unit': 'cup', 'meta': [], 'metaInformation': [], 'measures': {'us': {'amount': 0.333, 'unitShort': 'cups', 'unitLong': 'cups'}, 'metric': {'amount': 78.863, 'unitShort': 'ml', 'unitLong': 'milliliters'}}}, {'id': 1041009, 'aisle': 'Cheese', 'image': 'cheddar-cheese.png', 'consistency': 'solid', 'name': 'cheese', 'nameClean': 'cheese', 'original': '1 cup grated cheese', 'originalString': '1 cup grated cheese', 'originalName': 'grated cheese', 'amount': 1.0, 'unit': 'cup', 'meta': ['grated'], 'metaInformation': ['grated'], 'measures': {'us': {'amount': 1.0, 'unitShort': 'cup', 'unitLong': 'cup'}, 'metric': {'amount': 236.588, 'unitShort': 'ml', 'unitLong': 'milliliters'}}}, {'id': 7057, 'aisle': 'Meat', 'image': 'pepperoni.png', 'consistency': 'solid', 'name': 'pepperoni', 'nameClean': 'pepperoni', 'original': 'About 12 slices of pepperoni', 'originalString': 'About 12 slices of pepperoni', 'originalName': 'About of pepperoni', 'amount': 12.0, 'unit': 'slices', 'meta': [], 'metaInformation': [], 'measures': {'us': {'amount': 12.0, 'unitShort': 'slice', 'unitLong': 'slices'}, 'metric': {'amount': 12.0, 'unitShort': 'slice', 'unitLong': 'slices'}}}], 'id': 651956, 'title': 'Mini eggplant pizza', 'readyInMinutes': 45, 'servings': 3, 'sourceUrl': 'https://www.foodista.com/recipe/2R5MSMN3/mini-eggplant-pizza', 'image': 'https://spoonacular.com/recipeImages/651956-556x370.jpg', 'imageType': 'jpg', 'nutrition': {'nutrients': [{'name': 'Calories', 'title': 'Calories', 'amount': 239.79, 'unit': 'kcal', 'percentOfDailyNeeds': 11.99}, {'name': 'Fat', 'title': 'Fat', 'amount': 20.72, 'unit': 'g', 'percentOfDailyNeeds': 31.88}, {'name': 'Saturated Fat', 'title': 'Saturated Fat', 'amount': 9.79, 'unit': 'g', 'percentOfDailyNeeds': 61.16}, {'name': 'Carbohydrates', 'title': 'Carbohydrates', 'amount': 2.11, 'unit': 'g', 'percentOfDailyNeeds': 0.7}, {'name': 'Net Carbohydrates', 'title': 'Net Carbohydrates', 'amount': 1.62, 'unit': 'g', 'percentOfDailyNeeds': 0.59}, {'name': 'Sugar', 'title': 'Sugar', 'amount': 1.45, 'unit': 'g', 'percentOfDailyNeeds': 1.61}, {'name': 'Cholesterol', 'title': 'Cholesterol', 'amount': 47.95, 'unit': 'mg', 'percentOfDailyNeeds': 15.98}, {'name': 'Sodium', 'title': 'Sodium', 'amount': 582.18, 'unit': 'mg', 'percentOfDailyNeeds': 25.31}, {'name': 'Protein', 'title': 'Protein', 'amount': 11.58, 'unit': 'g', 'percentOfDailyNeeds': 23.16}, {'name': 'Calcium', 'title': 'Calcium', 'amount': 277.21, 'unit': 'mg', 'percentOfDailyNeeds': 27.72}, {'name': 'Phosphorus', 'title': 'Phosphorus', 'amount': 214.75, 'unit': 'mg', 'percentOfDailyNeeds': 21.48}, {'name': 'Selenium', 'title': 'Selenium', 'amount': 8.1, 'unit': 'µg', 'percentOfDailyNeeds': 11.57}, {'name': 'Vitamin B2', 'title': 'Vitamin B2', 'amount': 0.19, 'unit': 'mg', 'percentOfDailyNeeds': 10.91}, {'name': 'Vitamin A', 'title': 'Vitamin A', 'amount': 495.93, 'unit': 'IU', 'percentOfDailyNeeds': 9.92}, {'name': 'Zinc', 'title': 'Zinc', 'amount': 1.43, 'unit': 'mg', 'percentOfDailyNeeds': 9.54}, {'name': 'Vitamin E', 'title': 'Vitamin E', 'amount': 1.17, 'unit': 'mg', 'percentOfDailyNeeds': 7.82}, {'name': 'Vitamin B12', 'title': 'Vitamin B12', 'amount': 0.45, 'unit': 'µg', 'percentOfDailyNeeds': 7.52}, {'name': 'Vitamin K', 'title': 'Vitamin K', 'amount': 5.19, 'unit': 'µg', 'percentOfDailyNeeds': 4.94}, {'name': 'Potassium', 'title': 'Potassium', 'amount': 155.7, 'unit': 'mg', 'percentOfDailyNeeds': 4.45}, {'name': 'Manganese', 'title': 'Manganese', 'amount': 0.09, 'unit': 'mg', 'percentOfDailyNeeds': 4.35}, {'name': 'Magnesium', 'title': 'Magnesium', 'amount': 16.97, 'unit': 'mg', 'percentOfDailyNeeds': 4.24}, {'name': 'Vitamin B6', 'title': 'Vitamin B6', 'amount': 0.08, 'unit': 'mg', 'percentOfDailyNeeds': 4.24}, {'name': 'Iron', 'title': 'Iron', 'amount': 0.7, 'unit': 'mg', 'percentOfDailyNeeds': 3.87}, {'name': 'Vitamin B3', 'title': 'Vitamin B3', 'amount': 0.68, 'unit': 'mg', 'percentOfDailyNeeds': 3.42}, {'name': 'Vitamin B5', 'title': 'Vitamin B5', 'amount': 0.34, 'unit': 'mg', 'percentOfDailyNeeds': 3.42}, {'name': 'Vitamin B1', 'title': 'Vitamin B1', 'amount': 0.05, 'unit': 'mg', 'percentOfDailyNeeds': 3.08}, {'name': 'Copper', 'title': 'Copper', 'amount': 0.05, 'unit': 'mg', 'percentOfDailyNeeds': 2.74}, {'name': 'Folate', 'title': 'Folate', 'amount': 10.78, 'unit': 'µg', 'percentOfDailyNeeds': 2.69}, {'name': 'Vitamin C', 'title': 'Vitamin C', 'amount': 2.02, 'unit': 'mg', 'percentOfDailyNeeds': 2.45}, {'name': 'Fiber', 'title': 'Fiber', 'amount': 0.49, 'unit': 'g', 'percentOfDailyNeeds': 1.96}, {'name': 'Vitamin D', 'title': 'Vitamin D', 'amount': 0.24, 'unit': 'µg', 'percentOfDailyNeeds': 1.61}], 'properties': [{'name': 'Glycemic Index', 'title': 'Glycemic Index', 'amount': 43.33, 'unit': ''}, {'name': 'Glycemic Load', 'title': 'Glycemic Load', 'amount': 0.63, 'unit': ''}], 'flavonoids': [{'name': 'Cyanidin', 'title': 'Cyanidin', 'amount': 0.0, 'unit': ''}, {'name': 'Petunidin', 'title': 'Petunidin', 'amount': 0.0, 'unit': ''}, {'name': 'Delphinidin', 'title': 'Delphinidin', 'amount': 2.36, 'unit': 'mg'}, {'name': 'Malvidin', 'title': 'Malvidin', 'amount': 0.0, 'unit': ''}, {'name': 'Pelargonidin', 'title': 'Pelargonidin', 'amount': 0.0, 'unit': ''}, {'name': 'Peonidin', 'title': 'Peonidin', 'amount': 0.0, 'unit': ''}, {'name': 'Catechin', 'title': 'Catechin', 'amount': 0.0, 'unit': 'mg'}, {'name': 'Epigallocatechin', 'title': 'Epigallocatechin', 'amount': 0.0, 'unit': 'mg'}, {'name': 'Epicatechin', 'title': 'Epicatechin', 'amount': 0.0, 'unit': 'mg'}, {'name': 'Epicatechin 3-gallate', 'title': 'Epicatechin 3-gallate', 'amount': 0.0, 'unit': 'mg'}, {'name': 'Epigallocatechin 3-gallate', 'title': 'Epigallocatechin 3-gallate', 'amount': 0.0, 'unit': 'mg'}, {'name': 'Theaflavin', 'title': 'Theaflavin', 'amount': 0.0, 'unit': ''}, {'name': 'Thearubigins', 'title': 'Thearubigins', 'amount': 0.0, 'unit': ''}, {'name': 'Eriodictyol', 'title': 'Eriodictyol', 'amount': 0.0, 'unit': ''}, {'name': 'Hesperetin', 'title': 'Hesperetin', 'amount': 0.0, 'unit': ''}, {'name': 'Naringenin', 'title': 'Naringenin', 'amount': 0.0, 'unit': ''}, {'name': 'Apigenin', 'title': 'Apigenin', 'amount': 0.0, 'unit': 'mg'}, {'name': 'Luteolin', 'title': 'Luteolin', 'amount': 0.01, 'unit': 'mg'}, {'name': 'Isorhamnetin', 'title': 'Isorhamnetin', 'amount': 0.0, 'unit': 'mg'}, {'name': 'Kaempferol', 'title': 'Kaempferol', 'amount': 0.0, 'unit': 'mg'}, {'name': 'Myricetin', 'title': 'Myricetin', 'amount': 0.0, 'unit': 'mg'}, {'name': 'Quercetin', 'title': 'Quercetin', 'amount': 0.0, 'unit': 'mg'}, {'name': \"Theaflavin-3,3'-digallate\", 'title': \"Theaflavin-3,3'-digallate\", 'amount': 0.0, 'unit': ''}, {'name': \"Theaflavin-3'-gallate\", 'title': \"Theaflavin-3'-gallate\", 'amount': 0.0, 'unit': ''}, {'name': 'Theaflavin-3-gallate', 'title': 'Theaflavin-3-gallate', 'amount': 0.0, 'unit': ''}, {'name': 'Gallocatechin', 'title': 'Gallocatechin', 'amount': 0.0, 'unit': 'mg'}], 'ingredients': [{'id': 4053, 'name': 'olive oil', 'amount': 0.33, 'unit': 'serving', 'nutrients': [{'title': 'Cholesterol', 'name': 'Cholesterol', 'amount': 0.0, 'unit': 'mg'}, {'title': 'Vitamin K', 'name': 'Vitamin K', 'amount': 2.81, 'unit': 'µg'}, {'title': 'Calories', 'name': 'Calories', 'amount': 41.25, 'unit': 'kcal'}, {'title': 'Caffeine', 'name': 'Caffeine', 'amount': 0.0, 'unit': 'mg'}, {'title': 'Zinc', 'name': 'Zinc', 'amount': 0.0, 'unit': 'mg'}, {'title': 'Vitamin B12', 'name': 'Vitamin B12', 'amount': 0.0, 'unit': 'µg'}, {'title': 'Choline', 'name': 'Choline', 'amount': 0.01, 'unit': 'mg'}, {'title': 'Saturated Fat', 'name': 'Saturated Fat', 'amount': 0.64, 'unit': 'g'}, {'title': 'Vitamin B3', 'name': 'Vitamin B3', 'amount': 0.0, 'unit': 'mg'}, {'title': 'Sugar', 'name': 'Sugar', 'amount': 0.0, 'unit': 'g'}, {'title': 'Manganese', 'name': 'Manganese', 'amount': 0.0, 'unit': 'mg'}, {'title': 'Vitamin C', 'name': 'Vitamin C', 'amount': 0.0, 'unit': 'mg'}, {'title': 'Protein', 'name': 'Protein', 'amount': 0.0, 'unit': 'g'}, {'title': 'Fiber', 'name': 'Fiber', 'amount': 0.0, 'unit': 'g'}, {'title': 'Net Carbohydrates', 'name': 'Net Carbohydrates', 'amount': 0.0, 'unit': 'g'}, {'title': 'Folic Acid', 'name': 'Folic Acid', 'amount': 0.0, 'unit': 'µg'}, {'title': 'Iron', 'name': 'Iron', 'amount': 0.03, 'unit': 'mg'}, {'title': 'Magnesium', 'name': 'Magnesium', 'amount': 0.0, 'unit': 'mg'}, {'title': 'Carbohydrates', 'name': 'Carbohydrates', 'amount': 0.0, 'unit': 'g'}, {'title': 'Folate', 'name': 'Folate', 'amount': 0.0, 'unit': 'µg'}, {'title': 'Vitamin B2', 'name': 'Vitamin B2', 'amount': 0.0, 'unit': 'mg'}, {'title': 'Alcohol', 'name': 'Alcohol', 'amount': 0.0, 'unit': 'g'}, {'title': 'Calcium', 'name': 'Calcium', 'amount': 0.05, 'unit': 'mg'}, {'title': 'Fat', 'name': 'Fat', 'amount': 4.67, 'unit': 'g'}, {'title': 'Vitamin A', 'name': 'Vitamin A', 'amount': 0.0, 'unit': 'IU'}, {'title': 'Vitamin B6', 'name': 'Vitamin B6', 'amount': 0.0, 'unit': 'mg'}, {'title': 'Mono Unsaturated Fat', 'name': 'Mono Unsaturated Fat', 'amount': 3.4, 'unit': 'g'}, {'title': 'Poly Unsaturated Fat', 'name': 'Poly Unsaturated Fat', 'amount': 0.49, 'unit': 'g'}, {'title': 'Vitamin E', 'name': 'Vitamin E', 'amount': 0.67, 'unit': 'mg'}, {'title': 'Potassium', 'name': 'Potassium', 'amount': 0.05, 'unit': 'mg'}, {'title': 'Selenium', 'name': 'Selenium', 'amount': 0.0, 'unit': 'µg'}, {'title': 'Sodium', 'name': 'Sodium', 'amount': 0.09, 'unit': 'mg'}, {'title': 'Copper', 'name': 'Copper', 'amount': 0.0, 'unit': 'mg'}, {'title': 'Vitamin D', 'name': 'Vitamin D', 'amount': 0.0, 'unit': 'µg'}, {'title': 'Vitamin B5', 'name': 'Vitamin B5', 'amount': 0.0, 'unit': 'mg'}, {'title': 'Phosphorus', 'name': 'Phosphorus', 'amount': 0.0, 'unit': 'mg'}, {'title': 'Vitamin B1', 'name': 'Vitamin B1', 'amount': 0.0, 'unit': 'mg'}]}, {'id': 1012047, 'name': 'sea salt', 'amount': 0.33, 'unit': 'serving', 'nutrients': [{'title': 'Cholesterol', 'name': 'Cholesterol', 'amount': 0.0, 'unit': 'mg'}, {'title': 'Vitamin K', 'name': 'Vitamin K', 'amount': 0.0, 'unit': 'µg'}, {'title': 'Calories', 'name': 'Calories', 'amount': 0.0, 'unit': 'kcal'}, {'title': 'Caffeine', 'name': 'Caffeine', 'amount': 0.0, 'unit': 'mg'}, {'title': 'Zinc', 'name': 'Zinc', 'amount': 0.0, 'unit': 'mg'}, {'title': 'Vitamin B12', 'name': 'Vitamin B12', 'amount': 0.0, 'unit': 'µg'}, {'title': 'Choline', 'name': 'Choline', 'amount': 0.0, 'unit': 'mg'}, {'title': 'Saturated Fat', 'name': 'Saturated Fat', 'amount': 0.0, 'unit': 'g'}, {'title': 'Vitamin B3', 'name': 'Vitamin B3', 'amount': 0.0, 'unit': 'mg'}, {'title': 'Sugar', 'name': 'Sugar', 'amount': 0.0, 'unit': 'g'}, {'title': 'Manganese', 'name': 'Manganese', 'amount': 0.0, 'unit': 'mg'}, {'title': 'Fluoride', 'name': 'Fluoride', 'amount': 0.0, 'unit': 'mg'}, {'title': 'Vitamin C', 'name': 'Vitamin C', 'amount': 0.0, 'unit': 'mg'}, {'title': 'Protein', 'name': 'Protein', 'amount': 0.0, 'unit': 'g'}, {'title': 'Fiber', 'name': 'Fiber', 'amount': 0.0, 'unit': 'g'}, {'title': 'Net Carbohydrates', 'name': 'Net Carbohydrates', 'amount': 0.0, 'unit': 'g'}, {'title': 'Folic Acid', 'name': 'Folic Acid', 'amount': 0.0, 'unit': 'µg'}, {'title': 'Iron', 'name': 'Iron', 'amount': 0.0, 'unit': 'mg'}, {'title': 'Magnesium', 'name': 'Magnesium', 'amount': 0.0, 'unit': 'mg'}, {'title': 'Carbohydrates', 'name': 'Carbohydrates', 'amount': 0.0, 'unit': 'g'}, {'title': 'Folate', 'name': 'Folate', 'amount': 0.0, 'unit': 'µg'}, {'title': 'Vitamin B2', 'name': 'Vitamin B2', 'amount': 0.0, 'unit': 'mg'}, {'title': 'Alcohol', 'name': 'Alcohol', 'amount': 0.0, 'unit': 'g'}, {'title': 'Calcium', 'name': 'Calcium', 'amount': 0.04, 'unit': 'mg'}, {'title': 'Fat', 'name': 'Fat', 'amount': 0.0, 'unit': 'g'}, {'title': 'Vitamin A', 'name': 'Vitamin A', 'amount': 0.0, 'unit': 'IU'}, {'title': 'Vitamin B6', 'name': 'Vitamin B6', 'amount': 0.0, 'unit': 'mg'}, {'title': 'Mono Unsaturated Fat', 'name': 'Mono Unsaturated Fat', 'amount': 0.0, 'unit': 'g'}, {'title': 'Poly Unsaturated Fat', 'name': 'Poly Unsaturated Fat', 'amount': 0.0, 'unit': 'g'}, {'title': 'Vitamin E', 'name': 'Vitamin E', 'amount': 0.0, 'unit': 'mg'}, {'title': 'Potassium', 'name': 'Potassium', 'amount': 0.01, 'unit': 'mg'}, {'title': 'Selenium', 'name': 'Selenium', 'amount': 0.0, 'unit': 'µg'}, {'title': 'Sodium', 'name': 'Sodium', 'amount': 64.6, 'unit': 'mg'}, {'title': 'Copper', 'name': 'Copper', 'amount': 0.0, 'unit': 'mg'}, {'title': 'Vitamin D', 'name': 'Vitamin D', 'amount': 0.0, 'unit': 'µg'}, {'title': 'Vitamin B5', 'name': 'Vitamin B5', 'amount': 0.0, 'unit': 'mg'}, {'title': 'Phosphorus', 'name': 'Phosphorus', 'amount': 0.0, 'unit': 'mg'}, {'title': 'Vitamin B1', 'name': 'Vitamin B1', 'amount': 0.0, 'unit': 'mg'}]}, {'id': 11209, 'name': 'eggplant', 'amount': 1.08, 'unit': 'inch', 'nutrients': [{'title': 'Cholesterol', 'name': 'Cholesterol', 'amount': 0.0, 'unit': 'mg'}, {'title': 'Vitamin K', 'name': 'Vitamin K', 'amount': 0.1, 'unit': 'µg'}, {'title': 'Calories', 'name': 'Calories', 'amount': 0.69, 'unit': 'kcal'}, {'title': 'Caffeine', 'name': 'Caffeine', 'amount': 0.0, 'unit': 'mg'}, {'title': 'Zinc', 'name': 'Zinc', 'amount': 0.0, 'unit': 'mg'}, {'title': 'Vitamin B12', 'name': 'Vitamin B12', 'amount': 0.0, 'unit': 'µg'}, {'title': 'Choline', 'name': 'Choline', 'amount': 0.19, 'unit': 'mg'}, {'title': 'Saturated Fat', 'name': 'Saturated Fat', 'amount': 0.0, 'unit': 'g'}, {'title': 'Vitamin B3', 'name': 'Vitamin B3', 'amount': 0.02, 'unit': 'mg'}, {'title': 'Sugar', 'name': 'Sugar', 'amount': 0.1, 'unit': 'g'}, {'title': 'Manganese', 'name': 'Manganese', 'amount': 0.01, 'unit': 'mg'}, {'title': 'Vitamin C', 'name': 'Vitamin C', 'amount': 0.06, 'unit': 'mg'}, {'title': 'Protein', 'name': 'Protein', 'amount': 0.03, 'unit': 'g'}, {'title': 'Fiber', 'name': 'Fiber', 'amount': 0.08, 'unit': 'g'}, {'title': 'Net Carbohydrates', 'name': 'Net Carbohydrates', 'amount': 0.08, 'unit': 'g'}, {'title': 'Folic Acid', 'name': 'Folic Acid', 'amount': 0.0, 'unit': 'µg'}, {'title': 'Iron', 'name': 'Iron', 'amount': 0.01, 'unit': 'mg'}, {'title': 'Magnesium', 'name': 'Magnesium', 'amount': 0.39, 'unit': 'mg'}, {'title': 'Carbohydrates', 'name': 'Carbohydrates', 'amount': 0.16, 'unit': 'g'}, {'title': 'Folate', 'name': 'Folate', 'amount': 0.61, 'unit': 'µg'}, {'title': 'Vitamin B2', 'name': 'Vitamin B2', 'amount': 0.0, 'unit': 'mg'}, {'title': 'Alcohol', 'name': 'Alcohol', 'amount': 0.0, 'unit': 'g'}, {'title': 'Calcium', 'name': 'Calcium', 'amount': 0.25, 'unit': 'mg'}, {'title': 'Fat', 'name': 'Fat', 'amount': 0.0, 'unit': 'g'}, {'title': 'Vitamin A', 'name': 'Vitamin A', 'amount': 0.63, 'unit': 'IU'}, {'title': 'Vitamin B6', 'name': 'Vitamin B6', 'amount': 0.0, 'unit': 'mg'}, {'title': 'Mono Unsaturated Fat', 'name': 'Mono Unsaturated Fat', 'amount': 0.0, 'unit': 'g'}, {'title': 'Poly Unsaturated Fat', 'name': 'Poly Unsaturated Fat', 'amount': 0.0, 'unit': 'g'}, {'title': 'Vitamin E', 'name': 'Vitamin E', 'amount': 0.01, 'unit': 'mg'}, {'title': 'Potassium', 'name': 'Potassium', 'amount': 6.3, 'unit': 'mg'}, {'title': 'Selenium', 'name': 'Selenium', 'amount': 0.01, 'unit': 'µg'}, {'title': 'Sodium', 'name': 'Sodium', 'amount': 0.06, 'unit': 'mg'}, {'title': 'Copper', 'name': 'Copper', 'amount': 0.0, 'unit': 'mg'}, {'title': 'Vitamin D', 'name': 'Vitamin D', 'amount': 0.0, 'unit': 'µg'}, {'title': 'Vitamin B5', 'name': 'Vitamin B5', 'amount': 0.01, 'unit': 'mg'}, {'title': 'Phosphorus', 'name': 'Phosphorus', 'amount': 0.66, 'unit': 'mg'}, {'title': 'Vitamin B1', 'name': 'Vitamin B1', 'amount': 0.0, 'unit': 'mg'}]}, {'id': 11549, 'name': 'tomato sauce', 'amount': 0.11, 'unit': 'cup', 'nutrients': [{'title': 'Cholesterol', 'name': 'Cholesterol', 'amount': 0.0, 'unit': 'mg'}, {'title': 'Vitamin K', 'name': 'Vitamin K', 'amount': 0.76, 'unit': 'µg'}, {'title': 'Calories', 'name': 'Calories', 'amount': 6.53, 'unit': 'kcal'}, {'title': 'Caffeine', 'name': 'Caffeine', 'amount': 0.0, 'unit': 'mg'}, {'title': 'Zinc', 'name': 'Zinc', 'amount': 0.05, 'unit': 'mg'}, {'title': 'Vitamin B12', 'name': 'Vitamin B12', 'amount': 0.0, 'unit': 'µg'}, {'title': 'Choline', 'name': 'Choline', 'amount': 2.7, 'unit': 'mg'}, {'title': 'Saturated Fat', 'name': 'Saturated Fat', 'amount': 0.01, 'unit': 'g'}, {'title': 'Vitamin B3', 'name': 'Vitamin B3', 'amount': 0.27, 'unit': 'mg'}, {'title': 'Sugar', 'name': 'Sugar', 'amount': 1.16, 'unit': 'g'}, {'title': 'Manganese', 'name': 'Manganese', 'amount': 0.03, 'unit': 'mg'}, {'title': 'Fluoride', 'name': 'Fluoride', 'amount': 9.5, 'unit': 'mg'}, {'title': 'Vitamin C', 'name': 'Vitamin C', 'amount': 1.91, 'unit': 'mg'}, {'title': 'Protein', 'name': 'Protein', 'amount': 0.36, 'unit': 'g'}, {'title': 'Fiber', 'name': 'Fiber', 'amount': 0.41, 'unit': 'g'}, {'title': 'Net Carbohydrates', 'name': 'Net Carbohydrates', 'amount': 1.06, 'unit': 'g'}, {'title': 'Folic Acid', 'name': 'Folic Acid', 'amount': 0.0, 'unit': 'µg'}, {'title': 'Iron', 'name': 'Iron', 'amount': 0.28, 'unit': 'mg'}, {'title': 'Magnesium', 'name': 'Magnesium', 'amount': 4.36, 'unit': 'mg'}, {'title': 'Carbohydrates', 'name': 'Carbohydrates', 'amount': 1.46, 'unit': 'g'}, {'title': 'Folate', 'name': 'Folate', 'amount': 2.99, 'unit': 'µg'}, {'title': 'Vitamin B2', 'name': 'Vitamin B2', 'amount': 0.02, 'unit': 'mg'}, {'title': 'Alcohol', 'name': 'Alcohol', 'amount': 0.0, 'unit': 'g'}, {'title': 'Calcium', 'name': 'Calcium', 'amount': 3.54, 'unit': 'mg'}, {'title': 'Fat', 'name': 'Fat', 'amount': 0.05, 'unit': 'g'}, {'title': 'Vitamin A', 'name': 'Vitamin A', 'amount': 117.87, 'unit': 'IU'}, {'title': 'Vitamin B6', 'name': 'Vitamin B6', 'amount': 0.03, 'unit': 'mg'}, {'title': 'Mono Unsaturated Fat', 'name': 'Mono Unsaturated Fat', 'amount': 0.01, 'unit': 'g'}, {'title': 'Poly Unsaturated Fat', 'name': 'Poly Unsaturated Fat', 'amount': 0.02, 'unit': 'g'}, {'title': 'Vitamin E', 'name': 'Vitamin E', 'amount': 0.39, 'unit': 'mg'}, {'title': 'Potassium', 'name': 'Potassium', 'amount': 90.11, 'unit': 'mg'}, {'title': 'Selenium', 'name': 'Selenium', 'amount': 0.05, 'unit': 'µg'}, {'title': 'Sodium', 'name': 'Sodium', 'amount': 142.64, 'unit': 'mg'}, {'title': 'Copper', 'name': 'Copper', 'amount': 0.03, 'unit': 'mg'}, {'title': 'Vitamin D', 'name': 'Vitamin D', 'amount': 0.0, 'unit': 'µg'}, {'title': 'Vitamin B5', 'name': 'Vitamin B5', 'amount': 0.08, 'unit': 'mg'}, {'title': 'Phosphorus', 'name': 'Phosphorus', 'amount': 7.08, 'unit': 'mg'}, {'title': 'Vitamin B1', 'name': 'Vitamin B1', 'amount': 0.01, 'unit': 'mg'}]}, {'id': 1041009, 'name': 'cheese', 'amount': 0.33, 'unit': 'cup', 'nutrients': [{'title': 'Cholesterol', 'name': 'Cholesterol', 'amount': 39.55, 'unit': 'mg'}, {'title': 'Vitamin K', 'name': 'Vitamin K', 'amount': 1.05, 'unit': 'µg'}, {'title': 'Calories', 'name': 'Calories', 'amount': 151.8, 'unit': 'kcal'}, {'title': 'Caffeine', 'name': 'Caffeine', 'amount': 0.0, 'unit': 'mg'}, {'title': 'Zinc', 'name': 'Zinc', 'amount': 1.17, 'unit': 'mg'}, {'title': 'Vitamin B12', 'name': 'Vitamin B12', 'amount': 0.31, 'unit': 'µg'}, {'title': 'Choline', 'name': 'Choline', 'amount': 6.22, 'unit': 'mg'}, {'title': 'Saturated Fat', 'name': 'Saturated Fat', 'amount': 7.94, 'unit': 'g'}, {'title': 'Vitamin B3', 'name': 'Vitamin B3', 'amount': 0.03, 'unit': 'mg'}, {'title': 'Sugar', 'name': 'Sugar', 'amount': 0.2, 'unit': 'g'}, {'title': 'Manganese', 'name': 'Manganese', 'amount': 0.0, 'unit': 'mg'}, {'title': 'Fluoride', 'name': 'Fluoride', 'amount': 13.15, 'unit': 'mg'}, {'title': 'Vitamin C', 'name': 'Vitamin C', 'amount': 0.0, 'unit': 'mg'}, {'title': 'Protein', 'name': 'Protein', 'amount': 9.38, 'unit': 'g'}, {'title': 'Fiber', 'name': 'Fiber', 'amount': 0.0, 'unit': 'g'}, {'title': 'Net Carbohydrates', 'name': 'Net Carbohydrates', 'amount': 0.48, 'unit': 'g'}, {'title': 'Folic Acid', 'name': 'Folic Acid', 'amount': 0.0, 'unit': 'µg'}, {'title': 'Iron', 'name': 'Iron', 'amount': 0.26, 'unit': 'mg'}, {'title': 'Magnesium', 'name': 'Magnesium', 'amount': 10.55, 'unit': 'mg'}, {'title': 'Carbohydrates', 'name': 'Carbohydrates', 'amount': 0.48, 'unit': 'g'}, {'title': 'Folate', 'name': 'Folate', 'amount': 6.78, 'unit': 'µg'}, {'title': 'Vitamin B2', 'name': 'Vitamin B2', 'amount': 0.14, 'unit': 'mg'}, {'title': 'Alcohol', 'name': 'Alcohol', 'amount': 0.0, 'unit': 'g'}, {'title': 'Calcium', 'name': 'Calcium', 'amount': 271.58, 'unit': 'mg'}, {'title': 'Fat', 'name': 'Fat', 'amount': 12.48, 'unit': 'g'}, {'title': 'Vitamin A', 'name': 'Vitamin A', 'amount': 377.42, 'unit': 'IU'}, {'title': 'Vitamin B6', 'name': 'Vitamin B6', 'amount': 0.03, 'unit': 'mg'}, {'title': 'Mono Unsaturated Fat', 'name': 'Mono Unsaturated Fat', 'amount': 3.54, 'unit': 'g'}, {'title': 'Poly Unsaturated Fat', 'name': 'Poly Unsaturated Fat', 'amount': 0.35, 'unit': 'g'}, {'title': 'Vitamin E', 'name': 'Vitamin E', 'amount': 0.11, 'unit': 'mg'}, {'title': 'Potassium', 'name': 'Potassium', 'amount': 36.91, 'unit': 'mg'}, {'title': 'Selenium', 'name': 'Selenium', 'amount': 5.24, 'unit': 'µg'}, {'title': 'Sodium', 'name': 'Sodium', 'amount': 233.91, 'unit': 'mg'}, {'title': 'Copper', 'name': 'Copper', 'amount': 0.01, 'unit': 'mg'}, {'title': 'Vitamin D', 'name': 'Vitamin D', 'amount': 0.23, 'unit': 'µg'}, {'title': 'Vitamin B5', 'name': 'Vitamin B5', 'amount': 0.16, 'unit': 'mg'}, {'title': 'Phosphorus', 'name': 'Phosphorus', 'amount': 192.85, 'unit': 'mg'}, {'title': 'Vitamin B1', 'name': 'Vitamin B1', 'amount': 0.01, 'unit': 'mg'}]}, {'id': 7057, 'name': 'pepperoni', 'amount': 4.0, 'unit': 'slices', 'nutrients': [{'title': 'Cholesterol', 'name': 'Cholesterol', 'amount': 8.4, 'unit': 'mg'}, {'title': 'Vitamin K', 'name': 'Vitamin K', 'amount': 0.46, 'unit': 'µg'}, {'title': 'Calories', 'name': 'Calories', 'amount': 39.52, 'unit': 'kcal'}, {'title': 'Caffeine', 'name': 'Caffeine', 'amount': 0.0, 'unit': 'mg'}, {'title': 'Zinc', 'name': 'Zinc', 'amount': 0.2, 'unit': 'mg'}, {'title': 'Vitamin B12', 'name': 'Vitamin B12', 'amount': 0.14, 'unit': 'µg'}, {'title': 'Choline', 'name': 'Choline', 'amount': 6.17, 'unit': 'mg'}, {'title': 'Saturated Fat', 'name': 'Saturated Fat', 'amount': 1.19, 'unit': 'g'}, {'title': 'Vitamin B3', 'name': 'Vitamin B3', 'amount': 0.37, 'unit': 'mg'}, {'title': 'Sugar', 'name': 'Sugar', 'amount': 0.0, 'unit': 'g'}, {'title': 'Manganese', 'name': 'Manganese', 'amount': 0.05, 'unit': 'mg'}, {'title': 'Vitamin C', 'name': 'Vitamin C', 'amount': 0.06, 'unit': 'mg'}, {'title': 'Protein', 'name': 'Protein', 'amount': 1.81, 'unit': 'g'}, {'title': 'Fiber', 'name': 'Fiber', 'amount': 0.0, 'unit': 'g'}, {'title': 'Net Carbohydrates', 'name': 'Net Carbohydrates', 'amount': 0.0, 'unit': 'g'}, {'title': 'Folic Acid', 'name': 'Folic Acid', 'amount': 0.0, 'unit': 'µg'}, {'title': 'Iron', 'name': 'Iron', 'amount': 0.13, 'unit': 'mg'}, {'title': 'Magnesium', 'name': 'Magnesium', 'amount': 1.68, 'unit': 'mg'}, {'title': 'Carbohydrates', 'name': 'Carbohydrates', 'amount': 0.0, 'unit': 'g'}, {'title': 'Folate', 'name': 'Folate', 'amount': 0.4, 'unit': 'µg'}, {'title': 'Vitamin B2', 'name': 'Vitamin B2', 'amount': 0.03, 'unit': 'mg'}, {'title': 'Alcohol', 'name': 'Alcohol', 'amount': 0.0, 'unit': 'g'}, {'title': 'Trans Fat', 'name': 'Trans Fat', 'amount': 0.13, 'unit': 'g'}, {'title': 'Calcium', 'name': 'Calcium', 'amount': 1.76, 'unit': 'mg'}, {'title': 'Fat', 'name': 'Fat', 'amount': 3.52, 'unit': 'g'}, {'title': 'Vitamin A', 'name': 'Vitamin A', 'amount': 0.0, 'unit': 'IU'}, {'title': 'Vitamin B6', 'name': 'Vitamin B6', 'amount': 0.03, 'unit': 'mg'}, {'title': 'Mono Unsaturated Fat', 'name': 'Mono Unsaturated Fat', 'amount': 1.37, 'unit': 'g'}, {'title': 'Poly Unsaturated Fat', 'name': 'Poly Unsaturated Fat', 'amount': 0.27, 'unit': 'g'}, {'title': 'Vitamin E', 'name': 'Vitamin E', 'amount': 0.0, 'unit': 'mg'}, {'title': 'Potassium', 'name': 'Potassium', 'amount': 22.32, 'unit': 'mg'}, {'title': 'Selenium', 'name': 'Selenium', 'amount': 2.8, 'unit': 'µg'}, {'title': 'Sodium', 'name': 'Sodium', 'amount': 140.88, 'unit': 'mg'}, {'title': 'Copper', 'name': 'Copper', 'amount': 0.01, 'unit': 'mg'}, {'title': 'Vitamin D', 'name': 'Vitamin D', 'amount': 0.02, 'unit': 'µg'}, {'title': 'Vitamin B5', 'name': 'Vitamin B5', 'amount': 0.09, 'unit': 'mg'}, {'title': 'Phosphorus', 'name': 'Phosphorus', 'amount': 14.16, 'unit': 'mg'}, {'title': 'Vitamin B1', 'name': 'Vitamin B1', 'amount': 0.03, 'unit': 'mg'}]}], 'caloricBreakdown': {'percentProtein': 19.2, 'percentFat': 77.3, 'percentCarbs': 3.5}, 'weightPerServing': {'amount': 80, 'unit': 'g'}}, 'summary': 'Forget going out to eat or ordering takeout every time you crave Mediterranean food. Try making Mini eggplant pizzan at home. One serving contains <b>240 calories</b>, <b>12g of protein</b>, and <b>21g of fat</b>. For <b>70 cents per serving</b>, this recipe <b>covers 7%</b> of your daily requirements of vitamins and minerals. This recipe serves 3. 1 person has made this recipe and would make it again. This recipe from Foodista requires pepperoni, sea salt, eggplant, and cheese. From preparation to the plate, this recipe takes around <b>around 45 minutes</b>. It is a good option if you\\'re following a <b>gluten free and primal</b> diet. Overall, this recipe earns a <b>rather bad spoonacular score of 18%</b>. Similar recipes are <a href=\"https://spoonacular.com/recipes/mini-eggplant-parmesan-331709\">Mini Eggplant Parmesan</a>, <a href=\"https://spoonacular.com/recipes/mini-eggplant-crust-pizzas-103649\">Mini Eggplant Crust Pizzas</a>, and <a href=\"https://spoonacular.com/recipes/mini-eggplant-parm-roasted-cherry-tomato-basil-pesto-751511\">Mini Eggplant Parm, Roasted Cherry Tomato, Basil Pesto</a>.', 'cuisines': ['Mediterranean', 'Italian', 'European'], 'dishTypes': [], 'diets': ['gluten free', 'primal'], 'occasions': [], 'winePairing': {'pairedWines': ['sangiovese', 'barbera wine', 'shiraz'], 'pairingText': \"Pizzan on the menu? Try pairing with Sangiovese, Barbera Wine, and Shiraz. The best wine for pizza depends on the toppings! Red sauce pizza will call for a red wine with some acidity, such as a barberan or sangiovese. Add pepperoni or sausage and you can go bolder with a syrah. You could try Masciarelli Marina Cvetic Montepulciano d'Abruzzo. Reviewers quite like it with a 4.6 out of 5 star rating and a price of about 30 dollars per bottle.\", 'productMatches': [{'id': 451498, 'title': \"Masciarelli Marina Cvetic Montepulciano d'Abruzzo\", 'description': '#85 Wine Spectator Top 100 of 2014\\nRuby red with garnet reflections. The bouquet is intense, complex, and full. On the palate, the wine is fruity, flowery and spicy with notes of ripe red berries, blackberries, dry flowers, violets, vanilla, and bitter chocolate.', 'price': '$29.99', 'imageUrl': 'https://spoonacular.com/productImages/451498-312x231.jpg', 'averageRating': 0.9199999999999999, 'ratingCount': 7.0, 'score': 0.8745454545454545, 'link': 'https://click.linksynergy.com/deeplink?id=*QCiIS6t4gA&mid=2025&murl=https%3A%2F%2Fwww.wine.com%2Fproduct%2Fmasciarelli-marina-cvetic-montepulciano-dabruzzo-2010%2F137541'}]}, 'instructions': 'Put enough olive oil in the bottom of a pie pan to lightly coat the bottom of the pan. Sprinkle with sea salt. Put the pan in the oven and preheat it to 350 degrees F.\\nOnce the pan is preheated, add the eggplant slices. Cook for 5 minutes. Take the pan out of the oven and turn over the eggplant slices. Spoon tomato sauce onto each slice. Top with cheese and pepperoni. Put back in oven and cook for another 5 minutes, or until the cheese is melted.\\nRemove from the oven and serve.', 'analyzedInstructions': [{'name': '', 'steps': [{'number': 1, 'step': 'Put enough olive oil in the bottom of a pie pan to lightly coat the bottom of the pan.', 'ingredients': [{'id': 4053, 'name': 'olive oil', 'localizedName': 'olive oil', 'image': 'olive-oil.jpg'}], 'equipment': [{'id': 405915, 'name': 'pie form', 'localizedName': 'pie form', 'image': 'pie-pan.png'}, {'id': 404645, 'name': 'frying pan', 'localizedName': 'frying pan', 'image': 'pan.png'}]}, {'number': 2, 'step': 'Sprinkle with sea salt.', 'ingredients': [{'id': 1012047, 'name': 'sea salt', 'localizedName': 'sea salt', 'image': 'salt.jpg'}], 'equipment': []}, {'number': 3, 'step': 'Put the pan in the oven and preheat it to 350 degrees F.', 'ingredients': [], 'equipment': [{'id': 404784, 'name': 'oven', 'localizedName': 'oven', 'image': 'oven.jpg', 'temperature': {'number': 350.0, 'unit': 'Fahrenheit'}}, {'id': 404645, 'name': 'frying pan', 'localizedName': 'frying pan', 'image': 'pan.png'}]}, {'number': 4, 'step': 'Once the pan is preheated, add the eggplant slices. Cook for 5 minutes. Take the pan out of the oven and turn over the eggplant slices. Spoon tomato sauce onto each slice. Top with cheese and pepperoni. Put back in oven and cook for another 5 minutes, or until the cheese is melted.', 'ingredients': [{'id': 11549, 'name': 'tomato sauce', 'localizedName': 'tomato sauce', 'image': 'tomato-sauce-or-pasta-sauce.jpg'}, {'id': 7057, 'name': 'pepperoni', 'localizedName': 'pepperoni', 'image': 'pepperoni.png'}, {'id': 11209, 'name': 'eggplant', 'localizedName': 'eggplant', 'image': 'eggplant.png'}, {'id': 1041009, 'name': 'cheese', 'localizedName': 'cheese', 'image': 'cheddar-cheese.png'}], 'equipment': [{'id': 404784, 'name': 'oven', 'localizedName': 'oven', 'image': 'oven.jpg'}, {'id': 404645, 'name': 'frying pan', 'localizedName': 'frying pan', 'image': 'pan.png'}], 'length': {'number': 10, 'unit': 'minutes'}}, {'number': 5, 'step': 'Remove from the oven and serve.', 'ingredients': [], 'equipment': [{'id': 404784, 'name': 'oven', 'localizedName': 'oven', 'image': 'oven.jpg'}]}]}], 'originalId': None, 'spoonacularSourceUrl': 'https://spoonacular.com/mini-eggplant-pizza-651956'}\n"
     ]
    }
   ],
   "source": [
    "import requests\n",
    "\n",
    "url = f\"https://api.spoonacular.com/recipes/{recipe_ID}/information?apiKey={API_KEY}&includeNutrition=true\"\n",
    "\n",
    "recipe_response = requests.get(url)\n",
    "all_recipe_json_data = recipe_response.json()\n",
    "\n",
    "print(f\"{recipe_response.status_code} \\n\")\n",
    "print(all_recipe_json_data)"
   ]
  },
  {
   "cell_type": "markdown",
   "id": "a8072cf3",
   "metadata": {},
   "source": [
    "## Importand Recipe Data\n",
    "\n",
    "* **Recipe Instructions**"
   ]
  },
  {
   "cell_type": "code",
   "execution_count": 38,
   "id": "fead8ecc",
   "metadata": {},
   "outputs": [
    {
     "name": "stdout",
     "output_type": "stream",
     "text": [
      "Put enough olive oil in the bottom of a pie pan to lightly coat the bottom of the pan. Sprinkle with sea salt. Put the pan in the oven and preheat it to 350 degrees F.\n",
      "Once the pan is preheated, add the eggplant slices. Cook for 5 minutes. Take the pan out of the oven and turn over the eggplant slices. Spoon tomato sauce onto each slice. Top with cheese and pepperoni. Put back in oven and cook for another 5 minutes, or until the cheese is melted.\n",
      "Remove from the oven and serve.\n"
     ]
    }
   ],
   "source": [
    "# recipe instructions\n",
    "recipe_instructions = all_recipe_json_data['instructions']\n",
    "print(recipe_instructions)"
   ]
  },
  {
   "cell_type": "markdown",
   "id": "3bcbd926",
   "metadata": {},
   "source": [
    "* **Reciep Summary**"
   ]
  },
  {
   "cell_type": "code",
   "execution_count": 39,
   "id": "696b3df0",
   "metadata": {},
   "outputs": [
    {
     "name": "stdout",
     "output_type": "stream",
     "text": [
      "Forget going out to eat or ordering takeout every time you crave Mediterranean food. Try making Mini eggplant pizzan at home. One serving contains <b>240 calories</b>, <b>12g of protein</b>, and <b>21g of fat</b>. For <b>70 cents per serving</b>, this recipe <b>covers 7%</b> of your daily requirements of vitamins and minerals. This recipe serves 3. 1 person has made this recipe and would make it again. This recipe from Foodista requires pepperoni, sea salt, eggplant, and cheese. From preparation to the plate, this recipe takes around <b>around 45 minutes</b>. It is a good option if you're following a <b>gluten free and primal</b> diet. Overall, this recipe earns a <b>rather bad spoonacular score of 18%</b>. Similar recipes are <a href=\"https://spoonacular.com/recipes/mini-eggplant-parmesan-331709\">Mini Eggplant Parmesan</a>, <a href=\"https://spoonacular.com/recipes/mini-eggplant-crust-pizzas-103649\">Mini Eggplant Crust Pizzas</a>, and <a href=\"https://spoonacular.com/recipes/mini-eggplant-parm-roasted-cherry-tomato-basil-pesto-751511\">Mini Eggplant Parm, Roasted Cherry Tomato, Basil Pesto</a>.\n"
     ]
    }
   ],
   "source": [
    "recipe_summary = all_recipe_json_data['summary']\n",
    "print(recipe_summary)"
   ]
  },
  {
   "cell_type": "markdown",
   "id": "33e1c6cf",
   "metadata": {},
   "source": [
    "* **Recipe Ingridents**"
   ]
  },
  {
   "cell_type": "code",
   "execution_count": 40,
   "id": "29da3e0f",
   "metadata": {},
   "outputs": [
    {
     "data": {
      "text/plain": [
       "['Olive oil',\n",
       " 'Sea salt',\n",
       " '3 1/4- to 1/3-inch slices of eggplant, drained on a paper towel for 30 to 45 minutes',\n",
       " '1/3 cup tomato sauce',\n",
       " '1 cup grated cheese',\n",
       " 'About 12 slices of pepperoni']"
      ]
     },
     "execution_count": 40,
     "metadata": {},
     "output_type": "execute_result"
    }
   ],
   "source": [
    "recipe_Ingredients = all_recipe_json_data['extendedIngredients']\n",
    "Ingredients = ''\n",
    "\n",
    "for i, dict in enumerate(recipe_Ingredients):\n",
    "    recipe_Ingredients[i] = dict['originalString']\n",
    "    Ingredients = ''.join(dict['originalString'])\n",
    "\n",
    "recipe_Ingredients"
   ]
  },
  {
   "cell_type": "code",
   "execution_count": 52,
   "id": "fa04f25a",
   "metadata": {},
   "outputs": [
    {
     "name": "stdout",
     "output_type": "stream",
     "text": [
      "Olive oil\n",
      "Sea salt\n",
      "3 1/4- to 1/3-inch slices of eggplant, drained on a paper towel for 30 to 45 minutes\n",
      "1/3 cup tomato sauce\n",
      "1 cup grated cheese\n",
      "About 12 slices of pepperoni\n"
     ]
    }
   ],
   "source": [
    "ing = '\\n'.join(recipe_Ingredients)\n",
    "print(ing)"
   ]
  },
  {
   "cell_type": "markdown",
   "id": "613cd991",
   "metadata": {},
   "source": [
    "* **Caloric Breakdown**"
   ]
  },
  {
   "cell_type": "code",
   "execution_count": 34,
   "id": "e77453e1",
   "metadata": {},
   "outputs": [
    {
     "data": {
      "text/plain": [
       "{'percentProtein': 28.5, 'percentFat': 33.86, 'percentCarbs': 37.64}"
      ]
     },
     "execution_count": 34,
     "metadata": {},
     "output_type": "execute_result"
    }
   ],
   "source": [
    "recipe_caloric_breakdown = all_recipe_json_data['nutrition']['caloricBreakdown']\n",
    "\n",
    "recipe_caloric_breakdown"
   ]
  },
  {
   "cell_type": "markdown",
   "id": "d271fadd",
   "metadata": {},
   "source": [
    "## Adding all the recipe details in dict"
   ]
  },
  {
   "cell_type": "code",
   "execution_count": 13,
   "id": "1ef0d699",
   "metadata": {},
   "outputs": [
    {
     "data": {
      "text/plain": [
       "'Caramelized Onion and Bacon Pizzan is a Mediterranean recipe that serves 4. One portion of this dish contains around 23g of protein, 32g of fat, and a total of 443 calories. For $1.95 per serving, this recipe covers 18% of your daily requirements of vitamins and minerals. If you have mushrooms, mozzarella cheese, turkey bacon, and a few other ingredients on hand, you can make it. It is brought to you by Foodista. It works best as a main course, and is done in around around 45 minutes. 1 person were glad they tried this recipe. Taking all factors into account, this recipe earns a spoonacular score of 40%, which is solid. If you like this recipe, you might also like recipes such as <a href=\"https://spoonacular.com/recipes/caramelized-onion-bacon-pizza-556268\">Caramelized Onion Bacon Pizza</a>, <a href=\"https://spoonacular.com/recipes/caramelized-onion-spinach-and-bacon-pizza-537842\">Caramelized Onion, Spinach and Bacon Pizza</a>, and <a href=\"https://spoonacular.com/recipes/spinach-caramelized-onion-and-bacon-pizza-235038\">Spinach, Caramelized Onion, and Bacon Pizza</a>.'"
      ]
     },
     "execution_count": 13,
     "metadata": {},
     "output_type": "execute_result"
    }
   ],
   "source": [
    "recipe_summary = recipe_summary.replace('<b>', '')\n",
    "recipe_summary = recipe_summary.replace('</b>', '')\n",
    "recipe_summary"
   ]
  },
  {
   "cell_type": "code",
   "execution_count": 17,
   "id": "162fd7c7",
   "metadata": {},
   "outputs": [],
   "source": [
    "recipe = {}\n",
    "\n",
    "recipe['id'] = recipe_ID\n",
    "recipe['title'] = recipe_title\n",
    "recipe['readyTime'] = recipe_ready_time\n",
    "recipe['soureUrl'] = recipe_source_url\n",
    "\n",
    "recipe['instructions'] = recipe_instructions\n",
    "\n",
    "recipe['Ingridents'] = recipe_Ingredients\n",
    "\n",
    "recipe_summary = recipe_summary.replace('<b>', '')\n",
    "recipe_summary = recipe_summary.replace('</b>', '')\n",
    "recipe['summary'] = recipe_summary\n",
    "\n",
    "recipe['percentProtein'] = recipe_caloric_breakdown['percentProtein']\n",
    "recipe['percentFat'] = recipe_caloric_breakdown['percentFat']\n",
    "recipe['percentCarbs'] = recipe_caloric_breakdown['percentCarbs']"
   ]
  },
  {
   "cell_type": "code",
   "execution_count": 18,
   "id": "67e66df4",
   "metadata": {},
   "outputs": [
    {
     "data": {
      "text/plain": [
       "{'id': 637054,\n",
       " 'title': 'Caramelized Onion and Bacon Pizza',\n",
       " 'readyTime': 45,\n",
       " 'soureUrl': 'https://www.foodista.com/recipe/DX2BY4DB/caramelized-onion-and-bacon-pizza',\n",
       " 'instructions': 'Over medium heat, melt butter in a skillet. Add brown sugar and onion and stir. Cook, stirring frequently, until onions have caramelized, about 10 minutes. Add turkey bacon and cook for another 5 minutes. Add mushrooms and spinach and cook until spianch has wilted, about 1-2 minutes. Remove from heat and set aside.\\nRoll out pizza dough and place on a greased baking sheet (sprinkled with cornmeal if desired). In a small bowl mix ricotta and pesto. Spread ricotta mixture over the pizza dough. Top with onion and bacon mixture. Sprinkle with mozzarella cheese. Bake at 425F for 15 minutes.',\n",
       " 'Ingridents': ['Pizza dough',\n",
       "  '2 tablespoons butter',\n",
       "  '1 tablespoon brown sugar',\n",
       "  '1 red onion, thinly sliced',\n",
       "  '8 pieces turkey bacon, diced',\n",
       "  '2 cups packed fresh chopped spinach or whole baby spinach',\n",
       "  '1 cup mushrooms, sliced',\n",
       "  'cup ricotta',\n",
       "  '3 tablespoons pesto',\n",
       "  '2 cups mozzarella cheese, shredded'],\n",
       " 'summary': 'Caramelized Onion and Bacon Pizzan is a Mediterranean recipe that serves 4. One portion of this dish contains around 23g of protein, 32g of fat, and a total of 443 calories. For $1.95 per serving, this recipe covers 18% of your daily requirements of vitamins and minerals. If you have mushrooms, mozzarella cheese, turkey bacon, and a few other ingredients on hand, you can make it. It is brought to you by Foodista. It works best as a main course, and is done in around around 45 minutes. 1 person were glad they tried this recipe. Taking all factors into account, this recipe earns a spoonacular score of 40%, which is solid. If you like this recipe, you might also like recipes such as <a href=\"https://spoonacular.com/recipes/caramelized-onion-bacon-pizza-556268\">Caramelized Onion Bacon Pizza</a>, <a href=\"https://spoonacular.com/recipes/caramelized-onion-spinach-and-bacon-pizza-537842\">Caramelized Onion, Spinach and Bacon Pizza</a>, and <a href=\"https://spoonacular.com/recipes/spinach-caramelized-onion-and-bacon-pizza-235038\">Spinach, Caramelized Onion, and Bacon Pizza</a>.',\n",
       " 'percentProtein': 20.69,\n",
       " 'percentFat': 63.47,\n",
       " 'percentCarbs': 15.84}"
      ]
     },
     "execution_count": 18,
     "metadata": {},
     "output_type": "execute_result"
    }
   ],
   "source": [
    "recipe"
   ]
  },
  {
   "cell_type": "code",
   "execution_count": null,
   "id": "474f353e",
   "metadata": {},
   "outputs": [],
   "source": []
  }
 ],
 "metadata": {
  "kernelspec": {
   "display_name": "Python 3",
   "language": "python",
   "name": "python3"
  },
  "language_info": {
   "codemirror_mode": {
    "name": "ipython",
    "version": 3
   },
   "file_extension": ".py",
   "mimetype": "text/x-python",
   "name": "python",
   "nbconvert_exporter": "python",
   "pygments_lexer": "ipython3",
   "version": "3.8.8"
  }
 },
 "nbformat": 4,
 "nbformat_minor": 5
}
